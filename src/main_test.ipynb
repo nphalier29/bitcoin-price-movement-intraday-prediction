{
 "cells": [
  {
   "cell_type": "code",
   "execution_count": 1,
   "id": "1c0ec919",
   "metadata": {},
   "outputs": [
    {
     "name": "stderr",
     "output_type": "stream",
     "text": [
      "/Users/noe/Documents/BigData S.Barthelemy/bigdata-project/venv/lib/python3.12/site-packages/tqdm/auto.py:21: TqdmWarning: IProgress not found. Please update jupyter and ipywidgets. See https://ipywidgets.readthedocs.io/en/stable/user_install.html\n",
      "  from .autonotebook import tqdm as notebook_tqdm\n"
     ]
    }
   ],
   "source": [
    "from api.BinanceData import BinanceData\n",
    "from utils.CleanData import CleanData\n",
    "from variables.Returns import Returns\n",
    "from variables.Target import Target\n",
    "from variables.TradingIndicators import TradingIndicators\n",
    "import pandas as pd\n",
    "from models.Models import CryptoModel"
   ]
  },
  {
   "cell_type": "code",
   "execution_count": 2,
   "id": "95ace9ea",
   "metadata": {},
   "outputs": [
    {
     "name": "stdout",
     "output_type": "stream",
     "text": [
      "       open_time            open            high             low  \\\n",
      "0  1664658000000  19250.95000000  19261.54000000  19248.87000000   \n",
      "1  1664658300000  19260.30000000  19262.33000000  19244.58000000   \n",
      "\n",
      "            close        volume     close_time quote_asset_volume  \\\n",
      "0  19259.68000000  269.59853000  1664658299999   5191135.49695430   \n",
      "1  19250.17000000  238.35668000  1664658599999   4588603.20906890   \n",
      "\n",
      "   number_of_trades taker_buy_base   taker_buy_quote ignore  \n",
      "0              5443   169.61903000  3266112.94285090      0  \n",
      "1              5358   113.42291000  2183540.30969950      0  \n",
      "315345\n"
     ]
    }
   ],
   "source": [
    "# Import de données\n",
    "BinanceData = BinanceData()\n",
    "data = BinanceData.load_data(\"BTCUSDT\", days=1095) # 3 ans de données\n",
    "print(data.head(2))\n",
    "print(len(data))"
   ]
  },
  {
   "cell_type": "code",
   "execution_count": 3,
   "id": "9700f89e",
   "metadata": {},
   "outputs": [
    {
     "name": "stdout",
     "output_type": "stream",
     "text": [
      "open_time\n",
      "                          high        low      close     volume  \\\n",
      "open_time                                                         \n",
      "2025-09-30 20:50:00  114714.91  114356.12  114695.65  121.35967   \n",
      "2025-09-30 20:55:00  114723.57  114575.75  114626.36   69.78428   \n",
      "2025-09-30 21:00:00  114719.97  114626.35  114714.40    9.12324   \n",
      "\n",
      "                     quote_asset_volume  number_of_trades  taker_buy_quote  \n",
      "open_time                                                                   \n",
      "2025-09-30 20:50:00        1.389826e+07             17930     9.499265e+06  \n",
      "2025-09-30 20:55:00        7.999537e+06             11303     1.561878e+06  \n",
      "2025-09-30 21:00:00        1.046338e+06              2038     4.682245e+05  \n"
     ]
    }
   ],
   "source": [
    "# Nettoyage des données \n",
    "cleaner = CleanData()\n",
    "cleaned_data = cleaner.clean_klines_data(data)\n",
    "print(cleaned_data.index.name)\n",
    "print(cleaned_data.tail(3))"
   ]
  },
  {
   "cell_type": "code",
   "execution_count": 6,
   "id": "37d6e2d5",
   "metadata": {},
   "outputs": [
    {
     "name": "stdout",
     "output_type": "stream",
     "text": [
      "315345\n"
     ]
    }
   ],
   "source": [
    "# Export des données pour travailler sur un ficheir Excel plutôt que de requêter l'API Binance à chaque fois\n",
    "print(len(cleaned_data))\n",
    "cleaned_data.to_csv(\"../data/clean_dataset.csv\", index=True)"
   ]
  },
  {
   "cell_type": "code",
   "execution_count": 4,
   "id": "764e072f",
   "metadata": {},
   "outputs": [
    {
     "name": "stdout",
     "output_type": "stream",
     "text": [
      "                          high        low      close     volume  \\\n",
      "open_time                                                         \n",
      "2025-09-30 20:50:00  114714.91  114356.12  114695.65  121.35967   \n",
      "2025-09-30 20:55:00  114723.57  114575.75  114626.36   69.78428   \n",
      "2025-09-30 21:00:00  114719.97  114626.35  114714.40    9.12324   \n",
      "\n",
      "                     quote_asset_volume  number_of_trades  taker_buy_quote  \\\n",
      "open_time                                                                    \n",
      "2025-09-30 20:50:00        1.389826e+07             17930     9.499265e+06   \n",
      "2025-09-30 20:55:00        7.999537e+06             11303     1.561878e+06   \n",
      "2025-09-30 21:00:00        1.046338e+06              2038     4.682245e+05   \n",
      "\n",
      "                       return  return_10  target  ...         EMA_12  \\\n",
      "open_time                                         ...                  \n",
      "2025-09-30 20:50:00  0.002508   0.003294       1  ...  114353.695316   \n",
      "2025-09-30 20:55:00 -0.000604   0.003843       0  ...  114395.643729   \n",
      "2025-09-30 21:00:00  0.000768   0.004777       1  ...  114444.683155   \n",
      "\n",
      "                           MACD  MACD_Signal      BB_width     RSI_14  \\\n",
      "open_time                                                               \n",
      "2025-09-30 20:50:00  215.347409   216.333097  2.273737e-13  66.686929   \n",
      "2025-09-30 20:55:00  221.146778   217.295833 -3.467449e-12  60.679124   \n",
      "2025-09-30 21:00:00  230.193386   219.875344  4.320100e-12  58.053844   \n",
      "\n",
      "                         ATR_14  High_Low_Range  Buy_Pressure  \\\n",
      "open_time                                                       \n",
      "2025-09-30 20:50:00  170.611429          358.79      0.946320   \n",
      "2025-09-30 20:55:00  172.171429          147.82      0.342376   \n",
      "2025-09-30 21:00:00  159.737857           93.62      0.940504   \n",
      "\n",
      "                     Volume_Pressure  Realized_Volatility  \n",
      "open_time                                                  \n",
      "2025-09-30 20:50:00         0.683486             0.001155  \n",
      "2025-09-30 20:55:00         0.195246             0.001160  \n",
      "2025-09-30 21:00:00         0.447489             0.001108  \n",
      "\n",
      "[3 rows x 21 columns]\n",
      "target\n",
      "0    157821\n",
      "1    157524\n",
      "Name: count, dtype: int64\n",
      "Index(['high', 'low', 'close', 'volume', 'quote_asset_volume',\n",
      "       'number_of_trades', 'taker_buy_quote', 'return', 'return_10', 'target',\n",
      "       'SMA_20', 'EMA_12', 'MACD', 'MACD_Signal', 'BB_width', 'RSI_14',\n",
      "       'ATR_14', 'High_Low_Range', 'Buy_Pressure', 'Volume_Pressure',\n",
      "       'Realized_Volatility'],\n",
      "      dtype='object')\n"
     ]
    }
   ],
   "source": [
    "# Import des données depuis le fichier Excel\n",
    "data = pd.read_csv(\"../data/clean_dataset.csv\", index_col=0)\n",
    "\n",
    "# Création des variables rendement et la cible\n",
    "data[\"return\"] = Returns.return_(data['close'])\n",
    "data[\"return_10\"] = Returns.return_10(data['close'])\n",
    "data[\"target\"] = Target.compute(data[\"return\"])\n",
    "\n",
    "# ajout des indicateurs techniques\n",
    "data = TradingIndicators.add_sma(data, price_col=\"close\", window=20, new_col=\"SMA_20\")\n",
    "data = TradingIndicators.add_ema(data, price_col=\"close\", window=12, new_col=\"EMA_12\")\n",
    "data = TradingIndicators.add_macd(data, price_col=\"close\")\n",
    "data = TradingIndicators.add_bollinger_bands_width(data, price_col=\"close\")\n",
    "data = TradingIndicators.add_rsi(data, price_col=\"close\")\n",
    "data = TradingIndicators.add_atr(data, high_col=\"high\", low_col=\"low\", close_col=\"close\", window=14, new_col=\"ATR_14\")\n",
    "data = TradingIndicators.add_high_low_range(data, high_col=\"high\", low_col=\"low\")\n",
    "data = TradingIndicators.add_buy_pressure(data, high_col=\"high\", low_col=\"low\", close_col=\"close\")\n",
    "data = TradingIndicators.add_volume_pressure(data, taker_buy_col=\"taker_buy_quote\", total_volume_col=\"quote_asset_volume\")\n",
    "data = TradingIndicators.add_realized_volatility(data, returns_col=\"return\", window=14)\n",
    "\n",
    "data.index = pd.to_datetime(data.index)\n",
    "\n",
    "print(data.tail(3))\n",
    "print(data[\"target\"].value_counts())\n",
    "print(data.columns)"
   ]
  },
  {
   "cell_type": "code",
   "execution_count": 5,
   "id": "892c7427",
   "metadata": {},
   "outputs": [
    {
     "name": "stdout",
     "output_type": "stream",
     "text": [
      "Index(['volume', 'number_of_trades', 'return', 'return_10', 'target', 'SMA_20',\n",
      "       'EMA_12', 'MACD', 'MACD_Signal', 'BB_width', 'RSI_14', 'ATR_14',\n",
      "       'High_Low_Range', 'Buy_Pressure', 'Volume_Pressure',\n",
      "       'Realized_Volatility', 'volume_lag_1', 'number_of_trades_lag_1',\n",
      "       'return_lag_1', 'return_10_lag_1', 'SMA_20_lag_1', 'EMA_12_lag_1',\n",
      "       'MACD_lag_1', 'MACD_Signal_lag_1', 'BB_width_lag_1', 'RSI_14_lag_1',\n",
      "       'ATR_14_lag_1', 'High_Low_Range_lag_1', 'Buy_Pressure_lag_1',\n",
      "       'Volume_Pressure_lag_1', 'Realized_Volatility_lag_1'],\n",
      "      dtype='object')\n"
     ]
    }
   ],
   "source": [
    "data = data.drop(columns=[\"high\", \"low\", \"close\", \"quote_asset_volume\", \"taker_buy_quote\"])\n",
    "\n",
    "# feature engineering avec ajout de variables laggées\n",
    "for col in data.columns:\n",
    "    if col != \"target\":\n",
    "        for lag in range(1,2):\n",
    "            data[f\"{col}_lag_{lag}\"] = data[col].shift(lag) \n",
    "\n",
    "data = data.dropna()\n",
    "print(data.columns)"
   ]
  },
  {
   "cell_type": "code",
   "execution_count": null,
   "id": "05539dfd",
   "metadata": {},
   "outputs": [],
   "source": [
    "# Application du modèle xgboost avec validation croisée glissante grâce à la classe CryptoModel\n",
    "import warnings\n",
    "warnings.filterwarnings(\"ignore\")   \n",
    "\n",
    "model = CryptoModel(data, lag=1)\n",
    "results = model.rolling_xgboost(months_train=4, weeks_test=4, n_trials=50)"
   ]
  }
 ],
 "metadata": {
  "kernelspec": {
   "display_name": "venv",
   "language": "python",
   "name": "python3"
  },
  "language_info": {
   "codemirror_mode": {
    "name": "ipython",
    "version": 3
   },
   "file_extension": ".py",
   "mimetype": "text/x-python",
   "name": "python",
   "nbconvert_exporter": "python",
   "pygments_lexer": "ipython3",
   "version": "3.12.2"
  }
 },
 "nbformat": 4,
 "nbformat_minor": 5
}
