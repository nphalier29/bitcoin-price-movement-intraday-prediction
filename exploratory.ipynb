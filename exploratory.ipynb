{
 "cells": [
  {
   "cell_type": "code",
   "execution_count": null,
   "id": "d5f9d772",
   "metadata": {},
   "outputs": [],
   "source": [
    "from binance.client import Client\n",
    "import pandas as pd\n",
    "\n",
    "# Initialiser le client Binance (pas besoin de clé API pour les données publiques)\n",
    "client = Client()\n",
    "\n",
    "def get_5min_klines(symbol, days=1):\n",
    "    \"\"\"\n",
    "    Récupère les données de bougies (klines) pour un symbole donné, sur des intervalles de 5 minutes, pour une journée.\n",
    "\n",
    "    :param symbol: Paire de trading (ex: \"BTCUSDT\")\n",
    "    :param days: Nombre de jours (1 par défaut)\n",
    "    :return: DataFrame pandas avec les données\n",
    "    \"\"\"\n",
    "    # Récupérer les klines (bougies) sur 5 minutes\n",
    "    klines = client.get_klines(symbol=symbol, interval=Client.KLINE_INTERVAL_5MINUTE, limit=288 * days)\n",
    "\n",
    "    # Convertir les données en DataFrame pandas\n",
    "    columns = [\n",
    "        'Open time', 'Open', 'High', 'Low', 'Close', 'Volume',\n",
    "        'Close time', 'Quote asset volume', 'Number of trades',\n",
    "        'Taker buy base asset volume', 'Taker buy quote asset volume', 'Ignore'\n",
    "    ]\n",
    "    df = pd.DataFrame(klines, columns=columns)\n",
    "\n",
    "    # Convertir les colonnes numériques en float\n",
    "    numeric_columns = ['Open', 'High', 'Low', 'Close', 'Volume', 'Quote asset volume']\n",
    "    for col in numeric_columns:\n",
    "        df[col] = pd.to_numeric(df[col])\n",
    "\n",
    "    # Convertir le timestamp en datetime\n",
    "    df['Open time'] = pd.to_datetime(df['Open time'], unit='ms')\n",
    "\n",
    "    return df\n",
    "\n",
    "# Exemple d'utilisation pour BTC/USDT sur 1 jour\n",
    "symbol = \"BTCUSDT\"\n",
    "data = get_5min_klines(symbol, days=1)\n",
    "\n",
    "# Afficher les 5 premières lignes\n",
    "print(data[['Open time', 'Open', 'High', 'Low', 'Close', 'Volume']].head())"
   ]
  }
 ],
 "metadata": {
  "kernelspec": {
   "display_name": "venv",
   "language": "python",
   "name": "python3"
  },
  "language_info": {
   "name": "python",
   "version": "3.12.2"
  }
 },
 "nbformat": 4,
 "nbformat_minor": 5
}
